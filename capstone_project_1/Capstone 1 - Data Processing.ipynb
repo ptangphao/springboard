{
 "cells": [
  {
   "cell_type": "code",
   "execution_count": 1,
   "metadata": {},
   "outputs": [],
   "source": [
    "import pandas as pd\n",
    "import numpy as np"
   ]
  },
  {
   "cell_type": "code",
   "execution_count": 2,
   "metadata": {},
   "outputs": [
    {
     "name": "stderr",
     "output_type": "stream",
     "text": [
      "/Users/Koala/anaconda/lib/python3.6/site-packages/IPython/core/interactiveshell.py:2717: DtypeWarning: Columns (22,32,34,49,55) have mixed types. Specify dtype option on import or set low_memory=False.\n",
      "  interactivity=interactivity, compiler=compiler, result=result)\n"
     ]
    }
   ],
   "source": [
    "df = pd.read_csv(\"./data/properties_2016.csv\")"
   ]
  },
  {
   "cell_type": "code",
   "execution_count": 4,
   "metadata": {},
   "outputs": [
    {
     "name": "stdout",
     "output_type": "stream",
     "text": [
      "   parcelid  airconditioningtypeid  architecturalstyletypeid  basementsqft  \\\n",
      "0  10754147                    NaN                       NaN           NaN   \n",
      "1  10759547                    NaN                       NaN           NaN   \n",
      "2  10843547                    NaN                       NaN           NaN   \n",
      "3  10859147                    NaN                       NaN           NaN   \n",
      "4  10879947                    NaN                       NaN           NaN   \n",
      "\n",
      "   bathroomcnt  bedroomcnt  buildingclasstypeid  buildingqualitytypeid  \\\n",
      "0          0.0         0.0                  NaN                    NaN   \n",
      "1          0.0         0.0                  NaN                    NaN   \n",
      "2          0.0         0.0                  NaN                    NaN   \n",
      "3          0.0         0.0                  3.0                    7.0   \n",
      "4          0.0         0.0                  4.0                    NaN   \n",
      "\n",
      "   calculatedbathnbr  decktypeid         ...           numberofstories  \\\n",
      "0                NaN         NaN         ...                       NaN   \n",
      "1                NaN         NaN         ...                       NaN   \n",
      "2                NaN         NaN         ...                       NaN   \n",
      "3                NaN         NaN         ...                       1.0   \n",
      "4                NaN         NaN         ...                       NaN   \n",
      "\n",
      "   fireplaceflag  structuretaxvaluedollarcnt  taxvaluedollarcnt  \\\n",
      "0            NaN                         NaN                9.0   \n",
      "1            NaN                         NaN            27516.0   \n",
      "2            NaN                    650756.0          1413387.0   \n",
      "3            NaN                    571346.0          1156834.0   \n",
      "4            NaN                    193796.0           433491.0   \n",
      "\n",
      "   assessmentyear  landtaxvaluedollarcnt  taxamount  taxdelinquencyflag  \\\n",
      "0          2015.0                    9.0        NaN                 NaN   \n",
      "1          2015.0                27516.0        NaN                 NaN   \n",
      "2          2015.0               762631.0   20800.37                 NaN   \n",
      "3          2015.0               585488.0   14557.57                 NaN   \n",
      "4          2015.0               239695.0    5725.17                 NaN   \n",
      "\n",
      "   taxdelinquencyyear  censustractandblock  \n",
      "0                 NaN                  NaN  \n",
      "1                 NaN                  NaN  \n",
      "2                 NaN                  NaN  \n",
      "3                 NaN                  NaN  \n",
      "4                 NaN                  NaN  \n",
      "\n",
      "[5 rows x 58 columns]\n"
     ]
    }
   ],
   "source": [
    "print(df.head())"
   ]
  },
  {
   "cell_type": "code",
   "execution_count": 7,
   "metadata": {},
   "outputs": [
    {
     "name": "stdout",
     "output_type": "stream",
     "text": [
      "6\n"
     ]
    }
   ],
   "source": []
  },
  {
   "cell_type": "code",
   "execution_count": null,
   "metadata": {
    "collapsed": true
   },
   "outputs": [],
   "source": []
  }
 ],
 "metadata": {
  "kernelspec": {
   "display_name": "Python 3",
   "language": "python",
   "name": "python3"
  },
  "language_info": {
   "codemirror_mode": {
    "name": "ipython",
    "version": 3
   },
   "file_extension": ".py",
   "mimetype": "text/x-python",
   "name": "python",
   "nbconvert_exporter": "python",
   "pygments_lexer": "ipython3",
   "version": "3.6.1"
  }
 },
 "nbformat": 4,
 "nbformat_minor": 2
}
